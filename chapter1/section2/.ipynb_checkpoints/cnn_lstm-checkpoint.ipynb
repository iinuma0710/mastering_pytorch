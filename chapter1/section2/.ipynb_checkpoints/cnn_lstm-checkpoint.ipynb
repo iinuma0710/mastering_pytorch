{
 "cells": [
  {
   "cell_type": "markdown",
   "id": "70982e46",
   "metadata": {},
   "source": [
    "# CNN-LSTM モデルの構築\n",
    "## イメージキャプショニングデータセットのダウンロード\n",
    "モデルの構築を行う前に必要なデータセットをダウンロードしておきます．\n",
    "学習セットと評価セットはそれぞれ 13GB と 6GB あります．\n",
    "ダウンロードとデータセットファイルの取り出しには，クリーニングや処理を含めて少し時間がかかります．"
   ]
  },
  {
   "cell_type": "code",
   "execution_count": 1,
   "id": "a7c2e748",
   "metadata": {},
   "outputs": [
    {
     "name": "stdout",
     "output_type": "stream",
     "text": [
      "/usr/bin/sh: 1: wget: not found\n",
      "/usr/bin/sh: 1: wget: not found\n",
      "/usr/bin/sh: 1: wget: not found\n",
      "/usr/bin/sh: 1: unzip: not found\n",
      "rm: cannot remove '../../dataset/coco2014/captions_train-val2014.zip': No such file or directory\n",
      "/usr/bin/sh: 1: unzip: not found\n",
      "rm: cannot remove '../../dataset/coco2014/train2014.zip': No such file or directory\n",
      "/usr/bin/sh: 1: unzip: not found\n",
      "rm: cannot remove '../../dataset/coco2014/val2014.zip': No such file or directory\n"
     ]
    }
   ],
   "source": [
    "# データセットをダウンロード\n",
    "!wget http://msvocds.blob.core.windows.net/annotations-1-0-3/captions_train-val2014.zip -P ../../dataset/coco2014/\n",
    "!wget http://images.cocodataset.org/zips/train2014.zip -P ../../dataset/coco2014/\n",
    "!wget http://images.cocodataset.org/zips/val2014.zip -P ../../dataset/coco2014/\n",
    "\n",
    "# ZIP を解凍する\n",
    "!unzip ../../dataset/coco2014/captions_train-val2014.zip -d ../../dataset/coco2014/\n",
    "!rm ../../dataset/coco2014/captions_train-val2014.zip\n",
    "!unzip ../../dataset/coco2014/train2014.zip -d ../../dataset/coco2014/data_dir/\n",
    "!rm ../../dataset/coco2014/train2014.zip\n",
    "!unzip ../../dataset/coco2014/val2014.zip -d ../../dataset/coco2014/data_dir/\n",
    "!rm ../../dataset/coco2014/val2014.zip"
   ]
  },
  {
   "cell_type": "code",
   "execution_count": null,
   "id": "ebb2e70e",
   "metadata": {},
   "outputs": [],
   "source": []
  }
 ],
 "metadata": {
  "kernelspec": {
   "display_name": "Python 3 (ipykernel)",
   "language": "python",
   "name": "python3"
  },
  "language_info": {
   "codemirror_mode": {
    "name": "ipython",
    "version": 3
   },
   "file_extension": ".py",
   "mimetype": "text/x-python",
   "name": "python",
   "nbconvert_exporter": "python",
   "pygments_lexer": "ipython3",
   "version": "3.8.10"
  }
 },
 "nbformat": 4,
 "nbformat_minor": 5
}
